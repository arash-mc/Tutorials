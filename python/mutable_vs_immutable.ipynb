{
 "cells": [
  {
   "cell_type": "markdown",
   "id": "87de0b07",
   "metadata": {},
   "source": [
    "\n",
    "<h1 style=\"text-align: center;\"> Mutable vs. Immutable types\n",
    "</h1>"
   ]
  },
  {
   "cell_type": "markdown",
   "id": "2c019d74",
   "metadata": {},
   "source": [
    "### Introduction\n",
    "This notebook is related to a tutorial on my website. If you are seeing this notebook before the tutorial and want to get the full explanation, please look here: \n",
    "https://www.arashmousavi.com/python/mutable-vs-immutable-objects"
   ]
  },
  {
   "cell_type": "markdown",
   "id": "2b7d78c9",
   "metadata": {},
   "source": [
    "### 1- The id function"
   ]
  },
  {
   "cell_type": "code",
   "execution_count": 1,
   "id": "c73797d9",
   "metadata": {},
   "outputs": [
    {
     "name": "stdout",
     "output_type": "stream",
     "text": [
      "140568239860016\n"
     ]
    }
   ],
   "source": [
    "a = 1\n",
    "print(id(a)) #prints the id of a which is an iteger like: 140526364059952"
   ]
  },
  {
   "cell_type": "markdown",
   "id": "a1bb95ca",
   "metadata": {},
   "source": [
    "### 2- id and mutability"
   ]
  },
  {
   "cell_type": "code",
   "execution_count": 2,
   "id": "f0910014",
   "metadata": {},
   "outputs": [
    {
     "name": "stdout",
     "output_type": "stream",
     "text": [
      "same id\n"
     ]
    }
   ],
   "source": [
    "a = [5]\n",
    "id_before_change= id(a)\n",
    "a.append(3)\n",
    "id_after_change = id(a)\n",
    "print('same id') if id_before_change == id_after_change else print('different ids') # the result is same id"
   ]
  },
  {
   "cell_type": "code",
   "execution_count": 3,
   "id": "c1684d2a",
   "metadata": {},
   "outputs": [
    {
     "name": "stdout",
     "output_type": "stream",
     "text": [
      "different ids\n"
     ]
    }
   ],
   "source": [
    "b = 5\n",
    "id_before_change= id(b)\n",
    "b = 3\n",
    "id_after_change = id(b)\n",
    "print('same') if id_before_change == id_after_change else print('different ids') # the result is different ids"
   ]
  },
  {
   "cell_type": "markdown",
   "id": "e89eb74b",
   "metadata": {},
   "source": [
    "### 3- Mutability and hashing"
   ]
  },
  {
   "cell_type": "code",
   "execution_count": 4,
   "id": "2c88960d",
   "metadata": {},
   "outputs": [
    {
     "data": {
      "text/plain": [
       "-6941238720518932997"
      ]
     },
     "execution_count": 4,
     "metadata": {},
     "output_type": "execute_result"
    }
   ],
   "source": [
    "a = 'this is a string to show how hashing represents data in integer form'\n",
    "hash(a)"
   ]
  },
  {
   "cell_type": "code",
   "execution_count": 5,
   "id": "edf581eb",
   "metadata": {},
   "outputs": [
    {
     "ename": "TypeError",
     "evalue": "unhashable type: 'list'",
     "output_type": "error",
     "traceback": [
      "\u001b[0;31m---------------------------------------------------------------------------\u001b[0m",
      "\u001b[0;31mTypeError\u001b[0m                                 Traceback (most recent call last)",
      "\u001b[0;32m/var/folders/q7/t0v848hn38z8qy436thrkzhc0000gp/T/ipykernel_80922/3237272192.py\u001b[0m in \u001b[0;36m<module>\u001b[0;34m\u001b[0m\n\u001b[1;32m      1\u001b[0m \u001b[0;31m# The mutable types are not hashable\u001b[0m\u001b[0;34m\u001b[0m\u001b[0;34m\u001b[0m\u001b[0m\n\u001b[1;32m      2\u001b[0m \u001b[0mb\u001b[0m \u001b[0;34m=\u001b[0m \u001b[0;34m[\u001b[0m\u001b[0;36m1\u001b[0m\u001b[0;34m]\u001b[0m\u001b[0;34m\u001b[0m\u001b[0;34m\u001b[0m\u001b[0m\n\u001b[0;32m----> 3\u001b[0;31m \u001b[0mhash\u001b[0m\u001b[0;34m(\u001b[0m\u001b[0mb\u001b[0m\u001b[0;34m)\u001b[0m\u001b[0;34m\u001b[0m\u001b[0;34m\u001b[0m\u001b[0m\n\u001b[0m",
      "\u001b[0;31mTypeError\u001b[0m: unhashable type: 'list'"
     ]
    }
   ],
   "source": [
    "# Mutable types are not hashable \n",
    "b = [1]\n",
    "hash(b)"
   ]
  }
 ],
 "metadata": {
  "kernelspec": {
   "display_name": "Python 3 (ipykernel)",
   "language": "python",
   "name": "python3"
  },
  "language_info": {
   "codemirror_mode": {
    "name": "ipython",
    "version": 3
   },
   "file_extension": ".py",
   "mimetype": "text/x-python",
   "name": "python",
   "nbconvert_exporter": "python",
   "pygments_lexer": "ipython3",
   "version": "3.9.7"
  }
 },
 "nbformat": 4,
 "nbformat_minor": 5
}
