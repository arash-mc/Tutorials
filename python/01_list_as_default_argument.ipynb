{
 "cells": [
  {
   "cell_type": "markdown",
   "id": "099487ba",
   "metadata": {},
   "source": [
    "<h1 style=\"text-align: center;\"> Why you shouldn't use mutable objects as default variables \n",
    "</h1>\n",
    "\n",
    "### Introduction\n",
    "This notebook is related to a tutorial on my website. If you are seeing this notebook before the tutorial and want to get the full explanation, please look here: \n",
    "https://arashmousavi.com/python/why-you-shouldnt-use-lists-as-default-arguments-in-python"
   ]
  },
  {
   "cell_type": "markdown",
   "id": "2fee8bb6",
   "metadata": {},
   "source": [
    "### 1- Defining the function and running it twice"
   ]
  },
  {
   "cell_type": "code",
   "execution_count": 1,
   "id": "b875b2fb",
   "metadata": {},
   "outputs": [],
   "source": [
    "def say_all_names(first_name, other_names=[]):\n",
    "    other_names.append(first_name)\n",
    "    print(other_names)"
   ]
  },
  {
   "cell_type": "code",
   "execution_count": 2,
   "id": "52b62910",
   "metadata": {},
   "outputs": [
    {
     "name": "stdout",
     "output_type": "stream",
     "text": [
      "['John']\n"
     ]
    }
   ],
   "source": [
    "say_all_names('John')"
   ]
  },
  {
   "cell_type": "code",
   "execution_count": 3,
   "id": "d1dfb46f",
   "metadata": {},
   "outputs": [
    {
     "name": "stdout",
     "output_type": "stream",
     "text": [
      "['John', 'Sarah']\n"
     ]
    }
   ],
   "source": [
    "say_all_names('Sarah')"
   ]
  },
  {
   "cell_type": "markdown",
   "id": "d99940fa",
   "metadata": {},
   "source": [
    "### 2- Looking under the hood"
   ]
  },
  {
   "cell_type": "code",
   "execution_count": 4,
   "id": "cd1381f4",
   "metadata": {},
   "outputs": [
    {
     "name": "stdout",
     "output_type": "stream",
     "text": [
      "([],)\n"
     ]
    }
   ],
   "source": [
    "def say_all_names(first_name, other_names=[]):\n",
    "    other_names.append(first_name)\n",
    "    print(other_names)\n",
    "print(say_all_names.__defaults__)"
   ]
  },
  {
   "cell_type": "code",
   "execution_count": 5,
   "id": "7e2f56f5",
   "metadata": {},
   "outputs": [
    {
     "name": "stdout",
     "output_type": "stream",
     "text": [
      "['John']\n",
      "(['John'],)\n"
     ]
    }
   ],
   "source": [
    "say_all_names('John') #this prints -> ['John']\n",
    "print(say_all_names.__defaults__) #this prints -> (['John'],)"
   ]
  },
  {
   "cell_type": "markdown",
   "id": "4ee80bde",
   "metadata": {},
   "source": [
    "### 3- Doing it properly"
   ]
  },
  {
   "cell_type": "code",
   "execution_count": 6,
   "id": "46b033ab",
   "metadata": {},
   "outputs": [],
   "source": [
    "def say_all_names(first_name, other_names=None):\n",
    "    if other_names is None:\n",
    "        other_names = []\n",
    "    other_names.append(first_name)\n",
    "    print(other_names)"
   ]
  },
  {
   "cell_type": "code",
   "execution_count": 7,
   "id": "a39f2b51",
   "metadata": {},
   "outputs": [
    {
     "name": "stdout",
     "output_type": "stream",
     "text": [
      "['John']\n",
      "['Sarah']\n"
     ]
    }
   ],
   "source": [
    "say_all_names('John')\n",
    "say_all_names('Sarah')"
   ]
  }
 ],
 "metadata": {
  "kernelspec": {
   "display_name": "Python 3.9.7 64-bit ('data': venv)",
   "language": "python",
   "name": "python397jvsc74a57bd0010941cb570a2f7ee6318851e4993fa889b23f664fd79d476a44bff1a5b5a8df"
  },
  "language_info": {
   "codemirror_mode": {
    "name": "ipython",
    "version": 3
   },
   "file_extension": ".py",
   "mimetype": "text/x-python",
   "name": "python",
   "nbconvert_exporter": "python",
   "pygments_lexer": "ipython3",
   "version": "3.9.7"
  }
 },
 "nbformat": 4,
 "nbformat_minor": 5
}
